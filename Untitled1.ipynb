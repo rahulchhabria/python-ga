{
 "cells": [
  {
   "cell_type": "code",
   "execution_count": 1,
   "metadata": {},
   "outputs": [
    {
     "name": "stdout",
     "output_type": "stream",
     "text": [
      "1\n",
      "2\n",
      "3\n"
     ]
    }
   ],
   "source": [
    "numbers = [1, 2, 3]\n",
    "for x in numbers:\n",
    "        print(x)\n",
    "    "
   ]
  },
  {
   "cell_type": "code",
   "execution_count": 3,
   "metadata": {},
   "outputs": [
    {
     "name": "stdout",
     "output_type": "stream",
     "text": [
      "bob\n",
      "bill\n",
      "jill\n"
     ]
    }
   ],
   "source": [
    "students = [\"bob\", \"bill\", \"jill\"]\n",
    "for name in names:\n",
    "    print(name)"
   ]
  },
  {
   "cell_type": "code",
   "execution_count": 4,
   "metadata": {},
   "outputs": [
    {
     "name": "stdout",
     "output_type": "stream",
     "text": [
      "2x 1 = 2\n",
      "2x 2 = 4\n",
      "2x 3 = 6\n",
      "2x 4 = 8\n"
     ]
    }
   ],
   "source": [
    "numbers = [1, 2, 3, 4]\n",
    "for value in numbers:\n",
    "    print('2x', value, '=', value*2)"
   ]
  },
  {
   "cell_type": "code",
   "execution_count": 10,
   "metadata": {},
   "outputs": [
    {
     "name": "stdout",
     "output_type": "stream",
     "text": [
      "Checked value 20\n",
      "Checked value 30\n",
      "Checked value 10\n",
      "Checked value 40\n",
      "Checked value 30\n",
      "Checked value 50\n",
      "Checked value 60\n",
      "Checked value 40\n",
      "Found\n",
      "Checked value 9\n"
     ]
    }
   ],
   "source": [
    "found_below_10_years = False\n",
    "for value in [20,30,10,40,30,50,60,40,9]:\n",
    "    if value < 10:\n",
    "        found_below_10_years = True\n",
    "        print(\"Found\")\n",
    "    print('Checked value', value)\n",
    "        \n"
   ]
  },
  {
   "cell_type": "code",
   "execution_count": 12,
   "metadata": {},
   "outputs": [
    {
     "name": "stdout",
     "output_type": "stream",
     "text": [
      "0\n",
      "1\n",
      "2\n",
      "3\n",
      "4\n"
     ]
    }
   ],
   "source": [
    "for index in range(5):\n",
    "    print(index)"
   ]
  },
  {
   "cell_type": "code",
   "execution_count": 13,
   "metadata": {},
   "outputs": [
    {
     "name": "stdout",
     "output_type": "stream",
     "text": [
      "bill\n",
      "bob\n",
      "mary\n",
      "jane\n"
     ]
    }
   ],
   "source": [
    "names = ['bill', 'bob', 'mary', 'jane']\n",
    "length_of_list = len(names)\n",
    "for index in range(length_of_list):\n",
    "        value = names[index]\n",
    "        print(value)"
   ]
  },
  {
   "cell_type": "code",
   "execution_count": 16,
   "metadata": {},
   "outputs": [
    {
     "name": "stdout",
     "output_type": "stream",
     "text": [
      "100\n",
      "100\n",
      "100\n",
      "100\n",
      "120\n"
     ]
    }
   ],
   "source": [
    "ap = 100\n",
    "op = 0\n",
    "while op < ap:\n",
    "    print(ap)\n",
    "    op = op + 30\n",
    "print(op)\n",
    "    "
   ]
  },
  {
   "cell_type": "code",
   "execution_count": 21,
   "metadata": {},
   "outputs": [
    {
     "name": "stdout",
     "output_type": "stream",
     "text": [
      "hello John\n",
      "Have a great day!\n"
     ]
    }
   ],
   "source": [
    "def say_hello(name):\n",
    "        print('hello', name)\n",
    "        print('Have a great day!')\n",
    "        \n",
    "        \n",
    "say_hello('John')"
   ]
  },
  {
   "cell_type": "code",
   "execution_count": null,
   "metadata": {},
   "outputs": [],
   "source": []
  }
 ],
 "metadata": {
  "kernelspec": {
   "display_name": "Python 3",
   "language": "python",
   "name": "python3"
  },
  "language_info": {
   "codemirror_mode": {
    "name": "ipython",
    "version": 3
   },
   "file_extension": ".py",
   "mimetype": "text/x-python",
   "name": "python",
   "nbconvert_exporter": "python",
   "pygments_lexer": "ipython3",
   "version": "3.7.4"
  }
 },
 "nbformat": 4,
 "nbformat_minor": 2
}
