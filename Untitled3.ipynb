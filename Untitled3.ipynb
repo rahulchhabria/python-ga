{
 "cells": [
  {
   "cell_type": "code",
   "execution_count": 3,
   "metadata": {},
   "outputs": [
    {
     "ename": "SyntaxError",
     "evalue": "invalid syntax (<ipython-input-3-a51543aaadc1>, line 5)",
     "output_type": "error",
     "traceback": [
      "\u001b[0;36m  File \u001b[0;32m\"<ipython-input-3-a51543aaadc1>\"\u001b[0;36m, line \u001b[0;32m5\u001b[0m\n\u001b[0;31m    else print(high):\u001b[0m\n\u001b[0m             ^\u001b[0m\n\u001b[0;31mSyntaxError\u001b[0m\u001b[0;31m:\u001b[0m invalid syntax\n"
     ]
    }
   ],
   "source": [
    "def hi_low(value, value_list):\n",
    "    for value in value_list:\n",
    "        if value < 10:\n",
    "            print(low)\n",
    "        else print(high)\n",
    "\n",
    "value_list = [5, 10, 20]\n",
    "\n",
    "hi_low(value, value_list)"
   ]
  },
  {
   "cell_type": "code",
   "execution_count": 5,
   "metadata": {},
   "outputs": [
    {
     "name": "stdout",
     "output_type": "stream",
     "text": [
      "thanks for buying Panda\n",
      "your order will arrive in a week\n"
     ]
    }
   ],
   "source": [
    "def order(animal_name):\n",
    "    print(\"thanks for buying\", animal_name)\n",
    "    print(\"your order will arrive in a week\")\n",
    "\n",
    "order(\"Panda\")"
   ]
  },
  {
   "cell_type": "code",
   "execution_count": 12,
   "metadata": {},
   "outputs": [
    {
     "name": "stdout",
     "output_type": "stream",
     "text": [
      "cost of candy is 50\n"
     ]
    },
    {
     "data": {
      "text/plain": [
       "50"
      ]
     },
     "execution_count": 12,
     "metadata": {},
     "output_type": "execute_result"
    }
   ],
   "source": [
    "def cost(name, weight):\n",
    "    cost = weight * 10\n",
    "    print(\"cost of\", name, \"is\", cost)\n",
    "    return cost\n",
    "\n",
    "cost(\"candy\", 5)\n",
    "\n",
    "amount = cost "
   ]
  },
  {
   "cell_type": "code",
   "execution_count": 13,
   "metadata": {},
   "outputs": [
    {
     "name": "stdout",
     "output_type": "stream",
     "text": [
      "you are a kid, come on in\n",
      "18\n",
      "luggage\n",
      "remove shoes\n"
     ]
    }
   ],
   "source": [
    "def airport_security_check(age):\n",
    "    if age < 18:\n",
    "        print(\"you are a kid, come on in\")\n",
    "        return\n",
    "    print(\"18\")\n",
    "    print(\"luggage\")\n",
    "    print(\"remove shoes\")\n",
    "    \n",
    "airport_security_check(10)\n",
    "airport_security_check(30)"
   ]
  },
  {
   "cell_type": "code",
   "execution_count": 15,
   "metadata": {},
   "outputs": [
    {
     "name": "stdout",
     "output_type": "stream",
     "text": [
      "-1\n"
     ]
    }
   ],
   "source": [
    "def foo(*tuple_variable):\n",
    "    print(min(*tuple_variable))\n",
    "    \n",
    "foo(-1, 1)\n"
   ]
  },
  {
   "cell_type": "code",
   "execution_count": null,
   "metadata": {},
   "outputs": [],
   "source": [
    "def nutrition(food, calories, sugars):\n",
    "    print(food, 'contains:')\n",
    "    print('calories:', calories)\n",
    "    print('sugar:', sugars)\n",
    "    \n",
    "nutrition('cake', 50, shu)\n",
    "\n",
    "\n",
    "\n",
    "    "
   ]
  },
  {
   "cell_type": "code",
   "execution_count": 16,
   "metadata": {},
   "outputs": [
    {
     "name": "stdout",
     "output_type": "stream",
     "text": [
      "good**morning**to**you\n",
      "good**morning**to**youTHE END"
     ]
    }
   ],
   "source": [
    "print('good','morning','to','you', sep='**')\n",
    "print('good','morning','to','you', sep='**',end='THE END')\n"
   ]
  },
  {
   "cell_type": "code",
   "execution_count": 17,
   "metadata": {},
   "outputs": [
    {
     "ename": "SyntaxError",
     "evalue": "invalid syntax (<ipython-input-17-9a16734343df>, line 5)",
     "output_type": "error",
     "traceback": [
      "\u001b[0;36m  File \u001b[0;32m\"<ipython-input-17-9a16734343df>\"\u001b[0;36m, line \u001b[0;32m5\u001b[0m\n\u001b[0;31m    else total += 2\u001b[0m\n\u001b[0m             ^\u001b[0m\n\u001b[0;31mSyntaxError\u001b[0m\u001b[0;31m:\u001b[0m invalid syntax\n"
     ]
    }
   ],
   "source": [
    "def cost_of_combo(burger, drink = False, fries = True):\n",
    "    total = 0\n",
    "    if burger == \"veggie\":\n",
    "        total = total + 1 \n",
    "    else total += 2\n",
    "    if drink:\n",
    "        \n",
    "\n"
   ]
  },
  {
   "cell_type": "code",
   "execution_count": null,
   "metadata": {},
   "outputs": [],
   "source": []
  }
 ],
 "metadata": {
  "kernelspec": {
   "display_name": "Python 3",
   "language": "python",
   "name": "python3"
  },
  "language_info": {
   "codemirror_mode": {
    "name": "ipython",
    "version": 3
   },
   "file_extension": ".py",
   "mimetype": "text/x-python",
   "name": "python",
   "nbconvert_exporter": "python",
   "pygments_lexer": "ipython3",
   "version": "3.7.4"
  }
 },
 "nbformat": 4,
 "nbformat_minor": 2
}
