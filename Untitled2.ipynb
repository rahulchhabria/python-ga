{
 "cells": [
  {
   "cell_type": "code",
   "execution_count": 11,
   "metadata": {},
   "outputs": [
    {
     "name": "stdout",
     "output_type": "stream",
     "text": [
      "simba I bet you're Impressively Intelligent\n",
      "simba Ehh, a's and e's are so ordinary.\n",
      "ariel I bet you're Impressively Intelligent\n",
      "ariel Ehh, a's and e's are so ordinary.\n",
      "pumba I bet you're Impressively Intelligent\n",
      "pumba Ehh, a's and e's are so ordinary.\n",
      "flounder I bet you're Impressively Intelligent\n",
      "flounder O My! How Original!\n",
      "nala Ehh, a's and e's are so ordinary.\n",
      "ursula I bet you're Impressively Intelligent\n",
      "ursula Ehh, a's and e's are so ordinary.\n",
      "scar Ehh, a's and e's are so ordinary.\n",
      "flotsam O My! How Original!\n",
      "timon I bet you're Impressively Intelligent\n",
      "timon O My! How Original!\n"
     ]
    }
   ],
   "source": [
    "disney_characters = [\"simba\", \"ariel\", \"pumba\", \"flounder\", \"nala\", \"ursula\", \"scar\", \"flotsam\", \"timon\"]\n",
    "for name in disney_characters:\n",
    "    if \"u\"in name:\n",
    "           print(name, \"I bet you're Impressively Intelligent\")\n",
    "    if \"i\"in name:\n",
    "           print(name, \"I bet you're Impressively Intelligent\" )\n",
    "    if \"o\"in name:\n",
    "           print(name, \"O My! How Original!\")\n",
    "    else:\n",
    "        print(name, \"Ehh, a's and e's are so ordinary.\" )"
   ]
  },
  {
   "cell_type": "code",
   "execution_count": 24,
   "metadata": {},
   "outputs": [
    {
     "name": "stdout",
     "output_type": "stream",
     "text": [
      "The temperature is 90 - crank the AC!\n",
      "The temperature is 87 - crank the AC!\n",
      "The temperature is 84 - crank the AC!\n",
      "The temperature is 81 - crank the AC!\n",
      "The temperature is 78 - crank the AC!\n",
      "75. Ahh,that's better\n"
     ]
    }
   ],
   "source": [
    "temp = 90\n",
    "while temp > 75:\n",
    "  print(\"The temperature is\", temp, \"- crank the AC!\")\n",
    "  temp -= 3\n",
    "else:\n",
    "  print(temp, \".\", \" Ahh, that's better\", sep='')"
   ]
  },
  {
   "cell_type": "code",
   "execution_count": null,
   "metadata": {},
   "outputs": [],
   "source": []
  }
 ],
 "metadata": {
  "kernelspec": {
   "display_name": "Python 3",
   "language": "python",
   "name": "python3"
  },
  "language_info": {
   "codemirror_mode": {
    "name": "ipython",
    "version": 3
   },
   "file_extension": ".py",
   "mimetype": "text/x-python",
   "name": "python",
   "nbconvert_exporter": "python",
   "pygments_lexer": "ipython3",
   "version": "3.7.4"
  }
 },
 "nbformat": 4,
 "nbformat_minor": 2
}
